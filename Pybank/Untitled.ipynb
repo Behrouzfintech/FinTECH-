{
 "cells": [
  {
   "cell_type": "code",
   "execution_count": 7,
   "metadata": {},
   "outputs": [
    {
     "name": "stdout",
     "output_type": "stream",
     "text": [
      "Financial Analysis\n",
      "\n",
      "-------------------\n",
      "\n",
      "Total Months: 86\n",
      "Total Pnl: $38382578\n",
      "Average Change: -29749.2706\n",
      "Greatest Increase in Profit: Feb-2012 ($1926159)\n",
      "Greatest Decrease in Profits:Sep-2013 ($-2196167)\n"
     ]
    }
   ],
   "source": [
    "import csv\n",
    "import os\n",
    "csvpath = os.path.join('02-Python_Unit 2 Homework_PyBank_Resources_budget_data.csv')\n",
    "with open(csvpath, newline= '') as csvfile:\n",
    "    csvreader = csv.reader(csvfile, delimiter= ',')\n",
    "    csv_header = next(csvreader, None)\n",
    "    change = 0\n",
    "    months = 0\n",
    "    total_pnl= 0\n",
    "    avg = 0\n",
    "    z = 0\n",
    "    x = 0\n",
    "    for row in csvreader:\n",
    "        months += 1\n",
    "        total_pnl += int(row[1])\n",
    "        if int(row[1]) - avg > z:\n",
    "            z = int(row[1]) - avg\n",
    "            p = row[0]\n",
    "        elif int(row[1]) - avg < x:\n",
    "            x = int(row[1]) - avg\n",
    "            d = row[0]\n",
    "            change += int(row[1])\n",
    "        avg = int(row[1])\n",
    "    print ('Financial Analysis\\n')\n",
    "    print('-------------------\\n')\n",
    "    print(f'Total Months: '+str(months) + '')\n",
    "    print(f'Total Pnl: $'+str(total_pnl) +'' )\n",
    "    print(f\"Average Change: \"+str(round((change/(months-1)),2)) +\"\" )\n",
    "    print(f'Greatest Increase in Profit: '+p+' ($'+str(z) + ')')\n",
    "    print(f'Greatest Decrease in Profits:'+d+' ($'+str(x) + ')')\n"
   ]
  },
  {
   "cell_type": "code",
   "execution_count": null,
   "metadata": {},
   "outputs": [],
   "source": []
  },
  {
   "cell_type": "code",
   "execution_count": null,
   "metadata": {},
   "outputs": [],
   "source": []
  }
 ],
 "metadata": {
  "kernelspec": {
   "display_name": "Python 3",
   "language": "python",
   "name": "python3"
  },
  "language_info": {
   "codemirror_mode": {
    "name": "ipython",
    "version": 3
   },
   "file_extension": ".py",
   "mimetype": "text/x-python",
   "name": "python",
   "nbconvert_exporter": "python",
   "pygments_lexer": "ipython3",
   "version": "3.8.5"
  }
 },
 "nbformat": 4,
 "nbformat_minor": 4
}
